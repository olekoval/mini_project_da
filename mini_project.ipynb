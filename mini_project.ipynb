{
 "cells": [
  {
   "cell_type": "markdown",
   "id": "18e7f9e8",
   "metadata": {},
   "source": [
    "# Анализ проекта"
   ]
  },
  {
   "cell_type": "markdown",
   "id": "f9eccfa1",
   "metadata": {},
   "source": [
    "### Сбор данных из всех каталогов в один DataFrame"
   ]
  },
  {
   "cell_type": "code",
   "execution_count": 1,
   "id": "4acacabb",
   "metadata": {},
   "outputs": [],
   "source": [
    "import pandas as pd\n",
    "import os\n",
    "import matplotlib.pyplot as plt\n",
    "import seaborn as sns\n",
    "%matplotlib inline\n",
    "\n",
    "# Create an empty DataFrame to add read data from 'data.csv' files to it\n",
    "df = pd.DataFrame()\n",
    "# path relative path to data folder\n",
    "path = r\".\\data\"\n",
    "\n",
    "# Walk all branches of the folder tree to search for files 'data.csv'\n",
    "for root, dirs, files in os.walk(path):\n",
    "    # check file name match 'data.csv'\n",
    "    for name_fls in files:\n",
    "        # if substring name_fls is not found, -1 is returned\n",
    "        if not name_fls.find('data.csv') == -1 : \n",
    "            # collect the path\n",
    "            path_csv = f'{root}\\\\{name_fls}'\n",
    "            # read 'data.csv'\n",
    "            data_csv = pd.read_csv(path_csv, usecols=[1, 2])\n",
    "            lst = path_csv.split(\"\\\\\")\n",
    "            # add new columns from parsed path 'lst'\n",
    "            data_csv['name'] = lst[-2]\n",
    "            data_csv['date'] = pd.to_datetime(lst[-3])\n",
    "            # collect all DataFrame\n",
    "            df = pd.concat([df, data_csv])"
   ]
  },
  {
   "cell_type": "markdown",
   "id": "c80fc193",
   "metadata": {},
   "source": [
    "### Пользователь который купил больше всего товаров"
   ]
  },
  {
   "cell_type": "code",
   "execution_count": 2,
   "id": "3ae30894",
   "metadata": {},
   "outputs": [
    {
     "data": {
      "text/plain": [
       "'Alexey_Smirnov, Petr_Smirnov'"
      ]
     },
     "execution_count": 2,
     "metadata": {},
     "output_type": "execute_result"
    }
   ],
   "source": [
    "# calculate the maximum value\n",
    "max_byu = df.groupby('name', as_index=False) \\\n",
    "            .agg({'quantity':'sum'})['quantity']\\\n",
    "            .max()\n",
    "# compare with the maximum value          \n",
    "name_max = df.groupby('name', as_index=False) \\\n",
    "             .agg({'quantity':'sum'}) \\\n",
    "             .rename(columns={'quantity':'total'})\\\n",
    "             .query('total == @max_byu')\n",
    "# formation of a string with names\n",
    "', '.join([str(i) for i in name_max['name'].sort_values()])"
   ]
  },
  {
   "cell_type": "markdown",
   "id": "3dd424a9",
   "metadata": {},
   "source": [
    "### Топ-10 товаров по числу проданных единиц за всё время"
   ]
  },
  {
   "cell_type": "code",
   "execution_count": 3,
   "id": "8d0fe4b6",
   "metadata": {},
   "outputs": [
    {
     "data": {
      "text/html": [
       "<div>\n",
       "<style scoped>\n",
       "    .dataframe tbody tr th:only-of-type {\n",
       "        vertical-align: middle;\n",
       "    }\n",
       "\n",
       "    .dataframe tbody tr th {\n",
       "        vertical-align: top;\n",
       "    }\n",
       "\n",
       "    .dataframe thead th {\n",
       "        text-align: right;\n",
       "    }\n",
       "</style>\n",
       "<table border=\"1\" class=\"dataframe\">\n",
       "  <thead>\n",
       "    <tr style=\"text-align: right;\">\n",
       "      <th></th>\n",
       "      <th>product_id</th>\n",
       "      <th>quantity</th>\n",
       "    </tr>\n",
       "  </thead>\n",
       "  <tbody>\n",
       "    <tr>\n",
       "      <th>22</th>\n",
       "      <td>27</td>\n",
       "      <td>20</td>\n",
       "    </tr>\n",
       "    <tr>\n",
       "      <th>42</th>\n",
       "      <td>56</td>\n",
       "      <td>18</td>\n",
       "    </tr>\n",
       "    <tr>\n",
       "      <th>21</th>\n",
       "      <td>24</td>\n",
       "      <td>15</td>\n",
       "    </tr>\n",
       "    <tr>\n",
       "      <th>51</th>\n",
       "      <td>74</td>\n",
       "      <td>15</td>\n",
       "    </tr>\n",
       "    <tr>\n",
       "      <th>32</th>\n",
       "      <td>41</td>\n",
       "      <td>14</td>\n",
       "    </tr>\n",
       "    <tr>\n",
       "      <th>27</th>\n",
       "      <td>34</td>\n",
       "      <td>13</td>\n",
       "    </tr>\n",
       "    <tr>\n",
       "      <th>66</th>\n",
       "      <td>94</td>\n",
       "      <td>13</td>\n",
       "    </tr>\n",
       "    <tr>\n",
       "      <th>46</th>\n",
       "      <td>66</td>\n",
       "      <td>13</td>\n",
       "    </tr>\n",
       "    <tr>\n",
       "      <th>65</th>\n",
       "      <td>92</td>\n",
       "      <td>12</td>\n",
       "    </tr>\n",
       "    <tr>\n",
       "      <th>38</th>\n",
       "      <td>50</td>\n",
       "      <td>12</td>\n",
       "    </tr>\n",
       "  </tbody>\n",
       "</table>\n",
       "</div>"
      ],
      "text/plain": [
       "    product_id  quantity\n",
       "22          27        20\n",
       "42          56        18\n",
       "21          24        15\n",
       "51          74        15\n",
       "32          41        14\n",
       "27          34        13\n",
       "66          94        13\n",
       "46          66        13\n",
       "65          92        12\n",
       "38          50        12"
      ]
     },
     "execution_count": 3,
     "metadata": {},
     "output_type": "execute_result"
    }
   ],
   "source": [
    "product_top10 = df.groupby('product_id', as_index=False) \\\n",
    "                  .agg({'quantity':'sum'}) \\\n",
    "                  .sort_values('quantity', ascending=False) \\\n",
    "                  .head(10)\n",
    "product_top10"
   ]
  },
  {
   "cell_type": "markdown",
   "id": "9cd7f3f1",
   "metadata": {},
   "source": [
    "### Объем продаж по дням"
   ]
  },
  {
   "cell_type": "code",
   "execution_count": 4,
   "id": "ac3b40d6",
   "metadata": {},
   "outputs": [
    {
     "data": {
      "text/html": [
       "<div>\n",
       "<style scoped>\n",
       "    .dataframe tbody tr th:only-of-type {\n",
       "        vertical-align: middle;\n",
       "    }\n",
       "\n",
       "    .dataframe tbody tr th {\n",
       "        vertical-align: top;\n",
       "    }\n",
       "\n",
       "    .dataframe thead th {\n",
       "        text-align: right;\n",
       "    }\n",
       "</style>\n",
       "<table border=\"1\" class=\"dataframe\">\n",
       "  <thead>\n",
       "    <tr style=\"text-align: right;\">\n",
       "      <th></th>\n",
       "      <th>day</th>\n",
       "      <th>quantity</th>\n",
       "    </tr>\n",
       "  </thead>\n",
       "  <tbody>\n",
       "    <tr>\n",
       "      <th>0</th>\n",
       "      <td>03-Thu</td>\n",
       "      <td>60</td>\n",
       "    </tr>\n",
       "    <tr>\n",
       "      <th>1</th>\n",
       "      <td>04-Fri</td>\n",
       "      <td>113</td>\n",
       "    </tr>\n",
       "    <tr>\n",
       "      <th>2</th>\n",
       "      <td>05-Sat</td>\n",
       "      <td>61</td>\n",
       "    </tr>\n",
       "    <tr>\n",
       "      <th>3</th>\n",
       "      <td>06-Sun</td>\n",
       "      <td>15</td>\n",
       "    </tr>\n",
       "    <tr>\n",
       "      <th>4</th>\n",
       "      <td>07-Mon</td>\n",
       "      <td>94</td>\n",
       "    </tr>\n",
       "    <tr>\n",
       "      <th>5</th>\n",
       "      <td>08-Tue</td>\n",
       "      <td>68</td>\n",
       "    </tr>\n",
       "    <tr>\n",
       "      <th>6</th>\n",
       "      <td>09-Wed</td>\n",
       "      <td>69</td>\n",
       "    </tr>\n",
       "  </tbody>\n",
       "</table>\n",
       "</div>"
      ],
      "text/plain": [
       "      day  quantity\n",
       "0  03-Thu        60\n",
       "1  04-Fri       113\n",
       "2  05-Sat        61\n",
       "3  06-Sun        15\n",
       "4  07-Mon        94\n",
       "5  08-Tue        68\n",
       "6  09-Wed        69"
      ]
     },
     "execution_count": 4,
     "metadata": {},
     "output_type": "execute_result"
    }
   ],
   "source": [
    "df['day'] = df['date'].dt.strftime('%d-%a')\n",
    "sales_day = df.groupby(['day'], as_index=False)\\\n",
    "                .agg({'quantity':'sum'})\n",
    "sales_day"
   ]
  },
  {
   "cell_type": "markdown",
   "id": "52a59a9a",
   "metadata": {},
   "source": [
    "### Пользователи которые совершили повторные покупки в разные дни"
   ]
  },
  {
   "cell_type": "code",
   "execution_count": 5,
   "id": "a73603b4",
   "metadata": {},
   "outputs": [
    {
     "data": {
      "text/html": [
       "<div>\n",
       "<style scoped>\n",
       "    .dataframe tbody tr th:only-of-type {\n",
       "        vertical-align: middle;\n",
       "    }\n",
       "\n",
       "    .dataframe tbody tr th {\n",
       "        vertical-align: top;\n",
       "    }\n",
       "\n",
       "    .dataframe thead th {\n",
       "        text-align: right;\n",
       "    }\n",
       "</style>\n",
       "<table border=\"1\" class=\"dataframe\">\n",
       "  <thead>\n",
       "    <tr style=\"text-align: right;\">\n",
       "      <th></th>\n",
       "      <th>name</th>\n",
       "      <th>product_id</th>\n",
       "      <th>amount</th>\n",
       "    </tr>\n",
       "  </thead>\n",
       "  <tbody>\n",
       "    <tr>\n",
       "      <th>37</th>\n",
       "      <td>Anton_Ivanov</td>\n",
       "      <td>15</td>\n",
       "      <td>2</td>\n",
       "    </tr>\n",
       "    <tr>\n",
       "      <th>92</th>\n",
       "      <td>Petr_Fedorov</td>\n",
       "      <td>94</td>\n",
       "      <td>2</td>\n",
       "    </tr>\n",
       "  </tbody>\n",
       "</table>\n",
       "</div>"
      ],
      "text/plain": [
       "            name  product_id  amount\n",
       "37  Anton_Ivanov          15       2\n",
       "92  Petr_Fedorov          94       2"
      ]
     },
     "execution_count": 5,
     "metadata": {},
     "output_type": "execute_result"
    }
   ],
   "source": [
    "repeat_purchases = df.drop_duplicates(['name', 'product_id','date'])\\\n",
    "                     .groupby(['name', 'product_id'], as_index=False)\\\n",
    "                     .agg({'date':'count'})\\\n",
    "                     .query('date > 1')\\\n",
    "                     .rename(columns={'date':'amount'})\n",
    "\n",
    "repeat_purchases"
   ]
  },
  {
   "cell_type": "markdown",
   "id": "870fbc47",
   "metadata": {},
   "source": [
    "### Визуализация"
   ]
  },
  {
   "cell_type": "code",
   "execution_count": 6,
   "id": "e7bce06b",
   "metadata": {},
   "outputs": [
    {
     "data": {
      "text/plain": [
       "Text(0.5, 1.0, 'Продажи по дням')"
      ]
     },
     "execution_count": 6,
     "metadata": {},
     "output_type": "execute_result"
    },
    {
     "data": {
      "image/png": "[encoded data removed]",
      "text/plain": [
       "<Figure size 720x1080 with 2 Axes>"
      ]
     },
     "metadata": {},
     "output_type": "display_data"
    }
   ],
   "source": [
    "# creating a style for charts\n",
    "sns.set_style(\"whitegrid\",\n",
    "              {'axes.grid':True,\n",
    "               'grid.color':'grey',\n",
    "               'grid.linestyle':':',\n",
    "               'axes.axisbelow':False,\n",
    "               'axes.spines.top':False,\n",
    "               'axes.spines.right':False,\n",
    "              })\n",
    "sns.set_context(\"notebook\", font_scale=1.5,\n",
    "               rc={'axes.titlesize':20.0})\n",
    "# construction barplot\n",
    "plt.figure(figsize=(10, 15))\n",
    "plt.subplot(2, 1, 1)\n",
    "top10 = sns.barplot(x='product_id',\n",
    "                y='quantity',\n",
    "                color='green',\n",
    "                order=product_top10['product_id'],\n",
    "                data=product_top10) \n",
    "top10.set_title(\"Топ-10 товаров по числу проданных единиц за всё время\")\n",
    "\n",
    "plt.subplot(2, 1, 2)\n",
    "sales = sns.barplot(x='day',\n",
    "                    y='quantity',\n",
    "                    color='green',\n",
    "                    data=sales_day)\n",
    "sales.set_title(\"Продажи по дням\")"
   ]
  },
  {
   "cell_type": "markdown",
   "id": "a5e24341",
   "metadata": {},
   "source": [
    "### Выгрузка данных в excel"
   ]
  },
  {
   "cell_type": "code",
   "execution_count": 11,
   "id": "3df850af",
   "metadata": {},
   "outputs": [],
   "source": [
    "# writer 'df', 'name_max', 'product_top10', 'sales_day', 'repeat_purchases' to \"output.xlsx\"\n",
    "with pd.ExcelWriter(\"output.xlsx\") as writer:\n",
    "    df.to_excel(writer, sheet_name=\"data\", index=False)\n",
    "    name_max.to_excel(writer, sheet_name=\"name_max\", index=False)  \n",
    "    product_top10.to_excel(writer, sheet_name=\"product_top10\", index=False) \n",
    "    sales_day.to_excel(writer, sheet_name=\"sales_day\", index=False)\n",
    "    repeat_purchases.to_excel(writer, sheet_name=\"repeat_purchases\", index=False)"
   ]
  }
 ],
 "metadata": {
  "kernelspec": {
   "display_name": "Python 3 (ipykernel)",
   "language": "python",
   "name": "python3"
  },
  "language_info": {
   "codemirror_mode": {
    "name": "ipython",
    "version": 3
   },
   "file_extension": ".py",
   "mimetype": "text/x-python",
   "name": "python",
   "nbconvert_exporter": "python",
   "pygments_lexer": "ipython3",
   "version": "3.9.12"
  }
 },
 "nbformat": 4,
 "nbformat_minor": 5
}
